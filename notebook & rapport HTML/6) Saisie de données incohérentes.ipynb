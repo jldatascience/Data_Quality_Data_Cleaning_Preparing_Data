{
 "cells": [
  {
   "attachments": {},
   "cell_type": "markdown",
   "metadata": {},
   "source": [
    "# Saisie de données incohérentes\n",
    "\n"
   ]
  },
  {
   "attachments": {},
   "cell_type": "markdown",
   "metadata": {},
   "source": [
    "Points traités dans ce notebook :\n",
    "\n",
    "- Mise en place de notre environnement\n",
    "- Effectuer un prétraitement préliminaire du texte\n",
    "- Utiliser l'appariement flou pour corriger les données incohérentes."
   ]
  },
  {
   "attachments": {},
   "cell_type": "markdown",
   "metadata": {},
   "source": [
    "# Mise en place de notre environnement"
   ]
  },
  {
   "attachments": {},
   "cell_type": "markdown",
   "metadata": {},
   "source": [
    "La première chose à faire est de charger les bibliothèques que nous utiliserons. Mais pas nos jeux de données : nous y reviendrons plus tard !"
   ]
  },
  {
   "cell_type": "code",
   "execution_count": 12,
   "metadata": {},
   "outputs": [],
   "source": [
    "# librairie\n",
    "import pandas as pd\n",
    "import numpy as np\n",
    "\n",
    "# librairie utile\n",
    "import fuzzywuzzy\n",
    "from fuzzywuzzy import process\n",
    "import chardet\n",
    "\n",
    "# reproductibilité\n",
    "np.random.seed(0)"
   ]
  },
  {
   "attachments": {},
   "cell_type": "markdown",
   "metadata": {},
   "source": [
    "Lorsque j'ai essayé de lire le fichier PakistanSuicideAttacks Ver 11 (30-November-2017).csvfile la première fois, j'ai obtenu une erreur d'encodage de caractères, je vais donc vérifier rapidement quel devrait être l'encodage..."
   ]
  },
  {
   "cell_type": "code",
   "execution_count": 13,
   "metadata": {},
   "outputs": [
    {
     "name": "stdout",
     "output_type": "stream",
     "text": [
      "{'encoding': 'Windows-1252', 'confidence': 0.73, 'language': ''}\n"
     ]
    }
   ],
   "source": [
    "# regarder les dix mille premiers octets pour deviner le codage des caractères\n",
    "with open(\"/Users/jl/Downloads/PakistanSuicideAttacks Ver 11 (30-November-2017).csv\", 'rb') as rawdata:\n",
    "    result = chardet.detect(rawdata.read(100000))\n",
    "\n",
    "# vérifier le codage des caractères\n",
    "print(result)"
   ]
  },
  {
   "attachments": {},
   "cell_type": "markdown",
   "metadata": {},
   "source": [
    "Le lire avec l'encodage correct."
   ]
  },
  {
   "cell_type": "code",
   "execution_count": 14,
   "metadata": {},
   "outputs": [],
   "source": [
    "# lire dans notre date\n",
    "suicide_attacks = pd.read_csv(\"/Users/jl/Downloads/PakistanSuicideAttacks Ver 11 (30-November-2017).csv\", \n",
    "                              encoding='Windows-1252')"
   ]
  },
  {
   "attachments": {},
   "cell_type": "markdown",
   "metadata": {},
   "source": [
    "à présent, on peut commencer\n",
    "\n"
   ]
  },
  {
   "attachments": {},
   "cell_type": "markdown",
   "metadata": {},
   "source": [
    "# Effectuer un prétraitement préliminaire du texte\n"
   ]
  },
  {
   "attachments": {},
   "cell_type": "markdown",
   "metadata": {},
   "source": [
    "Pour cet exercice, je souhaite nettoyer la colonne \"Ville\" pour m'assurer qu'il n'y a pas d'incohérences dans la saisie des données. Nous pourrions bien sûr vérifier chaque ligne à la main et corriger les incohérences lorsque nous les trouvons. Mais il existe un moyen plus efficace d'y parvenir !"
   ]
  },
  {
   "cell_type": "code",
   "execution_count": 15,
   "metadata": {},
   "outputs": [
    {
     "data": {
      "text/plain": [
       "array(['ATTOCK', 'Attock ', 'Bajaur Agency', 'Bannu', 'Bhakkar ', 'Buner',\n",
       "       'Chakwal ', 'Chaman', 'Charsadda', 'Charsadda ', 'D. I Khan',\n",
       "       'D.G Khan', 'D.G Khan ', 'D.I Khan', 'D.I Khan ', 'Dara Adam Khel',\n",
       "       'Dara Adam khel', 'Fateh Jang', 'Ghallanai, Mohmand Agency ',\n",
       "       'Gujrat', 'Hangu', 'Haripur', 'Hayatabad', 'Islamabad',\n",
       "       'Islamabad ', 'Jacobabad', 'KURRAM AGENCY', 'Karachi', 'Karachi ',\n",
       "       'Karak', 'Khanewal', 'Khuzdar', 'Khyber Agency', 'Khyber Agency ',\n",
       "       'Kohat', 'Kohat ', 'Kuram Agency ', 'Lahore', 'Lahore ',\n",
       "       'Lakki Marwat', 'Lakki marwat', 'Lasbela', 'Lower Dir', 'MULTAN',\n",
       "       'Malakand ', 'Mansehra', 'Mardan', 'Mohmand Agency',\n",
       "       'Mohmand Agency ', 'Mohmand agency', 'Mosal Kor, Mohmand Agency',\n",
       "       'Multan', 'Muzaffarabad', 'North Waziristan', 'North waziristan',\n",
       "       'Nowshehra', 'Orakzai Agency', 'Peshawar', 'Peshawar ', 'Pishin',\n",
       "       'Poonch', 'Quetta', 'Quetta ', 'Rawalpindi', 'Sargodha',\n",
       "       'Sehwan town', 'Shabqadar-Charsadda', 'Shangla ', 'Shikarpur',\n",
       "       'Sialkot', 'South Waziristan', 'South waziristan', 'Sudhanoti',\n",
       "       'Sukkur', 'Swabi ', 'Swat', 'Swat ', 'Taftan',\n",
       "       'Tangi, Charsadda District', 'Tank', 'Tank ', 'Taunsa',\n",
       "       'Tirah Valley', 'Totalai', 'Upper Dir', 'Wagah', 'Zhob', 'bannu',\n",
       "       'karachi', 'karachi ', 'lakki marwat', 'peshawar', 'swat'],\n",
       "      dtype=object)"
      ]
     },
     "execution_count": 15,
     "metadata": {},
     "output_type": "execute_result"
    }
   ],
   "source": [
    "# obtenir toutes les valeurs uniques dans la colonne 'Ville'\n",
    "cities = suicide_attacks['City'].unique()\n",
    "\n",
    "# les trier par ordre alphabétique et regarder de plus près\n",
    "cities.sort()\n",
    "cities"
   ]
  },
  {
   "attachments": {},
   "cell_type": "markdown",
   "metadata": {},
   "source": [
    "Rien qu'en regardant cela, je peux voir quelques problèmes dus à une saisie incohérente des données : \"Lahore\" et \"Lahore\", par exemple, ou \"Lakki Marwat\" et \"Lakki marwat\".\n",
    "\n",
    "La première chose que je vais faire est de mettre tout en minuscule (je pourrai le faire à la fin si je le souhaite) et de supprimer les espaces blancs au début et à la fin des cellules.\n",
    "\n",
    "Les incohérences dans les majuscules et les espaces blancs en fin de ligne sont très courantes dans les données textuelles et vous pouvez corriger un bon 80 % de vos incohérences de saisie de données textuelles en procédant ainsi."
   ]
  },
  {
   "cell_type": "code",
   "execution_count": 16,
   "metadata": {},
   "outputs": [],
   "source": [
    "# convertir en minuscules\n",
    "suicide_attacks['City'] = suicide_attacks['City'].str.lower()\n",
    "\n",
    "# supprimer les espaces blancs à la fin du texte\n",
    "suicide_attacks['City'] = suicide_attacks['City'].str.strip()"
   ]
  },
  {
   "attachments": {},
   "cell_type": "markdown",
   "metadata": {},
   "source": [
    "Nous allons maintenant nous attaquer à des incohérences plus difficiles."
   ]
  },
  {
   "cell_type": "code",
   "execution_count": null,
   "metadata": {},
   "outputs": [],
   "source": []
  },
  {
   "attachments": {},
   "cell_type": "markdown",
   "metadata": {},
   "source": [
    "# Utiliser la correspondance floue pour corriger les incohérences dans la saisie des données"
   ]
  },
  {
   "attachments": {},
   "cell_type": "markdown",
   "metadata": {},
   "source": [
    "regardons à présent la colonne ville et voyons s'il y a d'autres nettoyages de données à faire."
   ]
  },
  {
   "cell_type": "code",
   "execution_count": 17,
   "metadata": {},
   "outputs": [
    {
     "data": {
      "text/plain": [
       "array(['attock', 'bajaur agency', 'bannu', 'bhakkar', 'buner', 'chakwal',\n",
       "       'chaman', 'charsadda', 'd. i khan', 'd.g khan', 'd.i khan',\n",
       "       'dara adam khel', 'fateh jang', 'ghallanai, mohmand agency',\n",
       "       'gujrat', 'hangu', 'haripur', 'hayatabad', 'islamabad',\n",
       "       'jacobabad', 'karachi', 'karak', 'khanewal', 'khuzdar',\n",
       "       'khyber agency', 'kohat', 'kuram agency', 'kurram agency',\n",
       "       'lahore', 'lakki marwat', 'lasbela', 'lower dir', 'malakand',\n",
       "       'mansehra', 'mardan', 'mohmand agency',\n",
       "       'mosal kor, mohmand agency', 'multan', 'muzaffarabad',\n",
       "       'north waziristan', 'nowshehra', 'orakzai agency', 'peshawar',\n",
       "       'pishin', 'poonch', 'quetta', 'rawalpindi', 'sargodha',\n",
       "       'sehwan town', 'shabqadar-charsadda', 'shangla', 'shikarpur',\n",
       "       'sialkot', 'south waziristan', 'sudhanoti', 'sukkur', 'swabi',\n",
       "       'swat', 'taftan', 'tangi, charsadda district', 'tank', 'taunsa',\n",
       "       'tirah valley', 'totalai', 'upper dir', 'wagah', 'zhob'],\n",
       "      dtype=object)"
      ]
     },
     "execution_count": 17,
     "metadata": {},
     "output_type": "execute_result"
    }
   ],
   "source": [
    "# obtenir toutes les valeurs uniques dans la colonne 'Ville'\n",
    "cities = suicide_attacks['City'].unique()\n",
    "\n",
    "# les trier par ordre alphabétique et les examiner de plus près\n",
    "cities.sort()\n",
    "cities"
   ]
  },
  {
   "attachments": {},
   "cell_type": "markdown",
   "metadata": {},
   "source": [
    "Il semble qu'il reste quelques incohérences : \"d. i khan\" et \"d.i khan\" devraient être identiques. (J'ai vérifié et 'd.g khan' est une ville distincte, je ne devrais donc pas les combiner).\n",
    "\n",
    "Je vais utiliser le paquet fuzzywuzzy pour m'aider à identifier les chaînes les plus proches les unes des autres. Ce dataset est suffisamment petit pour que nous puissions probablement corriger les erreurs à la main, mais cette approche n'est pas adaptée. Automatiser les choses le plus tôt possible est généralement une bonne idée.\n",
    "\n",
    "Fuzzy matching (=Correspondance floue) : processus consistant à trouver automatiquement des chaînes de texte très similaires à la chaîne cible.\n",
    "En général, on considère qu'une chaîne est d'autant plus proche d'une autre qu'il y a moins de caractères à modifier pour transformer une chaîne en une autre.\n",
    "Ainsi, \"apple\" et \"snapple\" sont à deux changements l'un de l'autre (ajouter \"s\" et \"n\"), tandis que \"in\" et \"on\" sont à un changement l'un de l'autre (remplacer \"i\" par \"o\").\n",
    "Vous ne pourrez pas toujours compter à 100 % sur la correspondance floue, mais elle nous permettra généralement de gagner au moins un peu de temps.\n",
    "\n",
    "Fuzzywuzzy renvoie un ratio à partir de deux chaînes de caractères. Plus le ratio est proche de 100, plus la distance d'édition entre les deux chaînes est faible. Ici, nous allons obtenir les dix chaînes de notre liste de villes qui ont la distance la plus proche de \"d.i khan\"."
   ]
  },
  {
   "cell_type": "code",
   "execution_count": 18,
   "metadata": {},
   "outputs": [
    {
     "data": {
      "text/plain": [
       "[('d. i khan', 100),\n",
       " ('d.i khan', 100),\n",
       " ('d.g khan', 88),\n",
       " ('khanewal', 50),\n",
       " ('sudhanoti', 47),\n",
       " ('hangu', 46),\n",
       " ('kohat', 46),\n",
       " ('dara adam khel', 45),\n",
       " ('chaman', 43),\n",
       " ('mardan', 43)]"
      ]
     },
     "execution_count": 18,
     "metadata": {},
     "output_type": "execute_result"
    }
   ],
   "source": [
    "# obtenir les 10 correspondances les plus proches de \"d.i khan\"\n",
    "matches = fuzzywuzzy.process.extract(\"d.i khan\", cities, limit=10, scorer=fuzzywuzzy.fuzz.token_sort_ratio)\n",
    "\n",
    "# regardons le résultat\n",
    "matches"
   ]
  },
  {
   "attachments": {},
   "cell_type": "markdown",
   "metadata": {},
   "source": [
    "Nous pouvons constater que deux des éléments des villes sont très proches de \"d.i khan\" : \"d. i khan\" et \"d.i khan\". Nous pouvons également voir que \"d.g khan\", qui est une ville distincte, a un ratio de 88. Puisque nous ne voulons pas remplacer \"d.g khan\" par \"d.i khan\", remplaçons toutes les lignes de notre colonne Ville qui ont un ratio > 90 par \"d. i khan\".\n",
    "\n",
    "Pour ce faire, je vais écrire une fonction.\n",
    "\n",
    "Il est conseillé d'écrire une fonction d'usage général et dont je pourrais réutiliser si je pense devoir effectuer une tâche spécifique plusieurs fois\n",
    "\n",
    "Cela permet d'éviter de copier et coller du code trop souvent, ce qui nous fait gagner du temps et peut nous aider à éviter les erreurs."
   ]
  },
  {
   "cell_type": "code",
   "execution_count": 19,
   "metadata": {},
   "outputs": [],
   "source": [
    "# fonction permettant de remplacer les lignes de la colonne fournie de la base de données fournie\n",
    "# qui correspondent à la chaîne fournie au-dessus du ratio fourni par la chaîne fournie\n",
    "def replace_matches_in_column(df, column, string_to_match, min_ratio = 90):\n",
    "    # obtient une liste de chaînes uniques\n",
    "    strings = df[column].unique()\n",
    "    \n",
    "    # obtient les 10 correspondances les plus proches de notre chaîne d'entrée\n",
    "    matches = fuzzywuzzy.process.extract(string_to_match, strings, \n",
    "                                         limit=10, scorer=fuzzywuzzy.fuzz.token_sort_ratio)\n",
    "\n",
    "    # ne récupère que les correspondances dont le ratio est > 90\n",
    "    close_matches = [matches[0] for matches in matches if matches[1] >= min_ratio]\n",
    "\n",
    "    # obtenir les lignes de toutes les correspondances proches dans notre cadre de données\n",
    "    rows_with_matches = df[column].isin(close_matches)\n",
    "\n",
    "    # remplacer toutes les lignes avec des correspondances proches par les correspondances d'entrée \n",
    "    df.loc[rows_with_matches, column] = string_to_match\n",
    "    \n",
    "    # nous indique que la fonction est terminée\n",
    "    print(\"All done!\")"
   ]
  },
  {
   "attachments": {},
   "cell_type": "markdown",
   "metadata": {},
   "source": [
    "Maintenant que nous avons une fonction, nous pouvons la mettre à l'épreuve !"
   ]
  },
  {
   "cell_type": "code",
   "execution_count": 20,
   "metadata": {},
   "outputs": [
    {
     "name": "stdout",
     "output_type": "stream",
     "text": [
      "All done!\n"
     ]
    }
   ],
   "source": [
    "# utiliser la fonction que nous venons d'écrire pour remplacer les correspondances proches de \"d.i khan\" par \"d.i khan\"\n",
    "replace_matches_in_column(df=suicide_attacks, column='City', string_to_match=\"d.i khan\")"
   ]
  },
  {
   "attachments": {},
   "cell_type": "markdown",
   "metadata": {},
   "source": [
    "Vérifions à nouveau les valeurs uniques de notre colonne Ville et assurons-nous que nous avons correctement mis de l'ordre dans d.i khan."
   ]
  },
  {
   "cell_type": "code",
   "execution_count": 21,
   "metadata": {},
   "outputs": [
    {
     "data": {
      "text/plain": [
       "array(['attock', 'bajaur agency', 'bannu', 'bhakkar', 'buner', 'chakwal',\n",
       "       'chaman', 'charsadda', 'd.g khan', 'd.i khan', 'dara adam khel',\n",
       "       'fateh jang', 'ghallanai, mohmand agency', 'gujrat', 'hangu',\n",
       "       'haripur', 'hayatabad', 'islamabad', 'jacobabad', 'karachi',\n",
       "       'karak', 'khanewal', 'khuzdar', 'khyber agency', 'kohat',\n",
       "       'kuram agency', 'kurram agency', 'lahore', 'lakki marwat',\n",
       "       'lasbela', 'lower dir', 'malakand', 'mansehra', 'mardan',\n",
       "       'mohmand agency', 'mosal kor, mohmand agency', 'multan',\n",
       "       'muzaffarabad', 'north waziristan', 'nowshehra', 'orakzai agency',\n",
       "       'peshawar', 'pishin', 'poonch', 'quetta', 'rawalpindi', 'sargodha',\n",
       "       'sehwan town', 'shabqadar-charsadda', 'shangla', 'shikarpur',\n",
       "       'sialkot', 'south waziristan', 'sudhanoti', 'sukkur', 'swabi',\n",
       "       'swat', 'taftan', 'tangi, charsadda district', 'tank', 'taunsa',\n",
       "       'tirah valley', 'totalai', 'upper dir', 'wagah', 'zhob'],\n",
       "      dtype=object)"
      ]
     },
     "execution_count": 21,
     "metadata": {},
     "output_type": "execute_result"
    }
   ],
   "source": [
    "# obtenir toutes les valeurs uniques dans la colonne 'Ville'\n",
    "cities = suicide_attacks['City'].unique()\n",
    "\n",
    "# les trier par ordre alphabétique et regarder de plus près\n",
    "cities.sort()\n",
    "cities"
   ]
  },
  {
   "attachments": {},
   "cell_type": "markdown",
   "metadata": {},
   "source": [
    "excellent ! Maintenant nous n'avons plus que \"d.i khan\" dans notre dataframe et nous n'avons plus besoin de changer quoi que ce soit à la main."
   ]
  },
  {
   "cell_type": "code",
   "execution_count": null,
   "metadata": {},
   "outputs": [],
   "source": []
  }
 ],
 "metadata": {
  "kernelspec": {
   "display_name": "base",
   "language": "python",
   "name": "python3"
  },
  "language_info": {
   "codemirror_mode": {
    "name": "ipython",
    "version": 3
   },
   "file_extension": ".py",
   "mimetype": "text/x-python",
   "name": "python",
   "nbconvert_exporter": "python",
   "pygments_lexer": "ipython3",
   "version": "3.10.2"
  },
  "orig_nbformat": 4
 },
 "nbformat": 4,
 "nbformat_minor": 2
}
