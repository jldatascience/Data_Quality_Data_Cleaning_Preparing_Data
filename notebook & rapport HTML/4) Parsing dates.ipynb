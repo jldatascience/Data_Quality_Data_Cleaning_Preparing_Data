{
 "cells": [
  {
   "attachments": {},
   "cell_type": "markdown",
   "metadata": {},
   "source": [
    "# Parsing dates\n",
    "\n"
   ]
  },
  {
   "attachments": {},
   "cell_type": "markdown",
   "metadata": {},
   "source": [
    "Points traités dans ce notebook :\n",
    "\n",
    "- Configurer notre environnement\n",
    "- Vérifier le type de données de notre colonne date\n",
    "- Convertir nos colonnes de date en datetime\n",
    "- Sélectionner uniquement le jour du mois dans notre colonne\n",
    "- Tracer le jour du mois pour vérifier l'analyse de la date"
   ]
  },
  {
   "cell_type": "code",
   "execution_count": null,
   "metadata": {},
   "outputs": [],
   "source": []
  },
  {
   "attachments": {},
   "cell_type": "markdown",
   "metadata": {},
   "source": [
    "# Mise en place de notre environnement"
   ]
  },
  {
   "attachments": {},
   "cell_type": "markdown",
   "metadata": {},
   "source": [
    "La première chose à faire est de charger les bibliothèques et les ensembles de données que nous allons utiliser. Pour aujourd'hui, nous travaillerons avec deux ensembles de données : l'un contenant des informations sur les tremblements de terre survenus entre 1965 et 2016, et l'autre contenant des informations sur les glissements de terrain survenus entre 2007 et 2016."
   ]
  },
  {
   "cell_type": "code",
   "execution_count": 9,
   "metadata": {},
   "outputs": [],
   "source": [
    "# librairie\n",
    "import pandas as pd\n",
    "import numpy as np\n",
    "import seaborn as sns\n",
    "import datetime\n",
    "\n",
    "# importer les données\n",
    "earthquakes = pd.read_csv(\"/Users/jl/Downloads/earthquake-database-database.csv\")\n",
    "landslides = pd.read_csv(\"/Users/jl/Downloads/catalog.csv\")\n",
    "volcanos = pd.read_csv(\"/Users/jl/Downloads/volcanic-eruptions-database.csv\")\n",
    "\n",
    "# reproductibilité\n",
    "np.random.seed(0)"
   ]
  },
  {
   "attachments": {},
   "cell_type": "markdown",
   "metadata": {},
   "source": [
    "Nous sommes maintenant prêts à examiner quelques dates"
   ]
  },
  {
   "attachments": {},
   "cell_type": "markdown",
   "metadata": {},
   "source": [
    "# Vérifier le type de données de notre colonne date"
   ]
  },
  {
   "attachments": {},
   "cell_type": "markdown",
   "metadata": {},
   "source": [
    "Pour cette partie du défi, je vais travailler avec la colonne date du dataframe glissements de terrain. La toute première chose que je vais faire est de jeter un coup d'œil aux premières lignes pour m'assurer qu'elles semblent contenir des dates."
   ]
  },
  {
   "cell_type": "code",
   "execution_count": 10,
   "metadata": {},
   "outputs": [
    {
     "name": "stdout",
     "output_type": "stream",
     "text": [
      "0     3/2/07\n",
      "1    3/22/07\n",
      "2     4/6/07\n",
      "3    4/14/07\n",
      "4    4/15/07\n",
      "Name: date, dtype: object\n"
     ]
    }
   ],
   "source": [
    "# imprimer les premières lignes de la colonne date\n",
    "print(landslides['date'].head())"
   ]
  },
  {
   "attachments": {},
   "cell_type": "markdown",
   "metadata": {},
   "source": [
    "Oui, ce sont des dates ! Mais ce n'est pas parce que moi, un humain, je peux dire que ce sont des dates que Python sait que ce sont des dates. Remarquez qu'en bas de la sortie de head(), il est indiqué que le type de données de cette colonne est \"object\".\n",
    "\n",
    "Pandas utilise le dtype \"object\" pour stocker différents types de données, mais le plus souvent, lorsque vous voyez une colonne avec le dtype \"object\", elle contient des chaînes de caractères.\n",
    "\n",
    "Si vous consultez la documentation pandas sur les dtypes ici, vous remarquerez qu'il existe également un dtype spécifique datetime64. Parce que le dtype de notre colonne est object plutôt que datetime64, nous pouvons dire que Python ne sait pas que cette colonne contient des dates.\n",
    "\n",
    "Nous pouvons également regarder uniquement le dtype de votre colonne sans imprimer les premières lignes si nous le souhaitons :"
   ]
  },
  {
   "cell_type": "code",
   "execution_count": 17,
   "metadata": {},
   "outputs": [
    {
     "data": {
      "text/plain": [
       "dtype('O')"
      ]
     },
     "execution_count": 17,
     "metadata": {},
     "output_type": "execute_result"
    }
   ],
   "source": [
    "# vérifier le type de données de notre colonne date\n",
    "landslides['date'].dtype"
   ]
  },
  {
   "attachments": {},
   "cell_type": "markdown",
   "metadata": {},
   "source": [
    "Il se peut que vous deviez consulter la documentation numpy pour faire correspondre le code de la lettre au type d'objet. \"O\" est le code pour \"object\", nous pouvons donc voir que ces deux méthodes nous donnent la même information."
   ]
  },
  {
   "attachments": {},
   "cell_type": "markdown",
   "metadata": {},
   "source": [
    "# Convertir nos colonnes de date en datetime"
   ]
  },
  {
   "attachments": {},
   "cell_type": "markdown",
   "metadata": {},
   "source": [
    "Maintenant que nous savons que notre colonne de dates n'est pas reconnue comme une date, il est temps de la convertir pour qu'elle soit reconnue comme telle. C'est ce qu'on appelle \"analyser les dates\", car nous prenons une chaîne de caractères et identifions ses composants.\n",
    "\n",
    "Nous pouvons déterminer le format de nos dates à l'aide d'un guide appelé \"directive strftime\".\n",
    "L'idée de base est que vous devez indiquer quelles parties de la date se trouvent à quel endroit et quelle ponctuation se trouve entre elles. Il existe de nombreuses parties possibles d'une date, mais les plus courantes sont %d pour le jour, %m pour le mois, %y pour une année à deux chiffres et %Y pour une année à quatre chiffres.\n",
    "\n",
    "Voici quelques exemples :\n",
    "\n",
    "1/17/07 a le format \"%m/%d/%y\"\n",
    "17-1-2007 a le format \"%d-%m-%Y\".\n",
    "\n",
    "En regardant l'en-tête de la colonne de date dans l'ensemble de données sur les glissements de terrain, nous pouvons voir qu'elle est au format \"mois/jour/année à deux chiffres\", de sorte que nous pouvons utiliser la même syntaxe que dans le premier exemple pour analyser nos dates :"
   ]
  },
  {
   "cell_type": "code",
   "execution_count": 18,
   "metadata": {},
   "outputs": [],
   "source": [
    "# créer une nouvelle colonne, date_parsed, avec les dates analysées\n",
    "landslides['date_parsed'] = pd.to_datetime(landslides['date'], format = \"%m/%d/%y\")"
   ]
  },
  {
   "attachments": {},
   "cell_type": "markdown",
   "metadata": {},
   "source": [
    "Maintenant, lorsque je vérifie les premières lignes de la nouvelle colonne, je peux voir que le type de données est datetime64. Je constate également que mes dates ont été légèrement réorganisées de manière à correspondre à l'ordre par défaut des objets datetime (année-mois-jour)."
   ]
  },
  {
   "cell_type": "code",
   "execution_count": 19,
   "metadata": {},
   "outputs": [
    {
     "data": {
      "text/plain": [
       "0   2007-03-02\n",
       "1   2007-03-22\n",
       "2   2007-04-06\n",
       "3   2007-04-14\n",
       "4   2007-04-15\n",
       "Name: date_parsed, dtype: datetime64[ns]"
      ]
     },
     "execution_count": 19,
     "metadata": {},
     "output_type": "execute_result"
    }
   ],
   "source": [
    "# imprimer les premières lignes\n",
    "landslides['date_parsed'].head()"
   ]
  },
  {
   "cell_type": "code",
   "execution_count": null,
   "metadata": {},
   "outputs": [],
   "source": []
  },
  {
   "attachments": {},
   "cell_type": "markdown",
   "metadata": {},
   "source": [
    "Maintenant que nos dates sont correctement analysées, nous pouvons interagir avec elles de manière utile.\n",
    "\n",
    "Que faire si je rencontre une erreur avec plusieurs formats de date ? Alors que nous spécifions le format de la date ici, vous rencontrerez parfois une erreur lorsqu'il y a plusieurs formats de date dans une même colonne.\n",
    "\n",
    "Dans ce cas, vous pouvez demander à pandas d'essayer de déduire le bon format de date.\n",
    "Vous pouvez faire cela comme suit :\n",
    "landslides['date_parsed'] = pd.to_datetime(landslides['Date'], infer_datetime_format=True)\n",
    "\n",
    "Pourquoi ne pas toujours utiliser infer_datetime_format = True ?\n",
    "Il y a deux raisons majeures de ne pas toujours laisser pandas deviner le format de l'heure.\n",
    "La première est que les pandas ne seront pas toujours capables de trouver le bon format de date, surtout si quelqu'un a fait preuve de créativité dans la saisie des données.\n",
    "La seconde est que c'est beaucoup plus lent que de spécifier le format exact des dates."
   ]
  },
  {
   "cell_type": "code",
   "execution_count": null,
   "metadata": {},
   "outputs": [],
   "source": []
  },
  {
   "attachments": {},
   "cell_type": "markdown",
   "metadata": {},
   "source": [
    "# Sélectionner uniquement le jour du mois dans notre colonne"
   ]
  },
  {
   "attachments": {},
   "cell_type": "markdown",
   "metadata": {},
   "source": [
    "Ok, Rachael, vous vous dites peut-être à ce stade : \"C'est bien de jouer avec les types de données, je suppose, mais quel est l'intérêt ?\" Pour répondre à votre question, essayons d'obtenir des informations sur le jour du mois où un glissement de terrain s'est produit à partir de la colonne originale \"date\", qui a un type de données \"objet\" :"
   ]
  },
  {
   "cell_type": "code",
   "execution_count": 20,
   "metadata": {},
   "outputs": [
    {
     "ename": "AttributeError",
     "evalue": "Can only use .dt accessor with datetimelike values",
     "output_type": "error",
     "traceback": [
      "\u001b[0;31m---------------------------------------------------------------------------\u001b[0m",
      "\u001b[0;31mAttributeError\u001b[0m                            Traceback (most recent call last)",
      "Cell \u001b[0;32mIn[20], line 2\u001b[0m\n\u001b[1;32m      1\u001b[0m \u001b[39m# essayer d'obtenir le jour du mois à partir de la colonne date\u001b[39;00m\n\u001b[0;32m----> 2\u001b[0m day_of_month_landslides \u001b[39m=\u001b[39m landslides[\u001b[39m'\u001b[39;49m\u001b[39mdate\u001b[39;49m\u001b[39m'\u001b[39;49m]\u001b[39m.\u001b[39;49mdt\u001b[39m.\u001b[39mday\n",
      "File \u001b[0;32m/Library/Frameworks/Python.framework/Versions/3.10/lib/python3.10/site-packages/pandas/core/generic.py:5902\u001b[0m, in \u001b[0;36mNDFrame.__getattr__\u001b[0;34m(self, name)\u001b[0m\n\u001b[1;32m   5895\u001b[0m \u001b[39mif\u001b[39;00m (\n\u001b[1;32m   5896\u001b[0m     name \u001b[39mnot\u001b[39;00m \u001b[39min\u001b[39;00m \u001b[39mself\u001b[39m\u001b[39m.\u001b[39m_internal_names_set\n\u001b[1;32m   5897\u001b[0m     \u001b[39mand\u001b[39;00m name \u001b[39mnot\u001b[39;00m \u001b[39min\u001b[39;00m \u001b[39mself\u001b[39m\u001b[39m.\u001b[39m_metadata\n\u001b[1;32m   5898\u001b[0m     \u001b[39mand\u001b[39;00m name \u001b[39mnot\u001b[39;00m \u001b[39min\u001b[39;00m \u001b[39mself\u001b[39m\u001b[39m.\u001b[39m_accessors\n\u001b[1;32m   5899\u001b[0m     \u001b[39mand\u001b[39;00m \u001b[39mself\u001b[39m\u001b[39m.\u001b[39m_info_axis\u001b[39m.\u001b[39m_can_hold_identifiers_and_holds_name(name)\n\u001b[1;32m   5900\u001b[0m ):\n\u001b[1;32m   5901\u001b[0m     \u001b[39mreturn\u001b[39;00m \u001b[39mself\u001b[39m[name]\n\u001b[0;32m-> 5902\u001b[0m \u001b[39mreturn\u001b[39;00m \u001b[39mobject\u001b[39;49m\u001b[39m.\u001b[39;49m\u001b[39m__getattribute__\u001b[39;49m(\u001b[39mself\u001b[39;49m, name)\n",
      "File \u001b[0;32m/Library/Frameworks/Python.framework/Versions/3.10/lib/python3.10/site-packages/pandas/core/accessor.py:182\u001b[0m, in \u001b[0;36mCachedAccessor.__get__\u001b[0;34m(self, obj, cls)\u001b[0m\n\u001b[1;32m    179\u001b[0m \u001b[39mif\u001b[39;00m obj \u001b[39mis\u001b[39;00m \u001b[39mNone\u001b[39;00m:\n\u001b[1;32m    180\u001b[0m     \u001b[39m# we're accessing the attribute of the class, i.e., Dataset.geo\u001b[39;00m\n\u001b[1;32m    181\u001b[0m     \u001b[39mreturn\u001b[39;00m \u001b[39mself\u001b[39m\u001b[39m.\u001b[39m_accessor\n\u001b[0;32m--> 182\u001b[0m accessor_obj \u001b[39m=\u001b[39m \u001b[39mself\u001b[39;49m\u001b[39m.\u001b[39;49m_accessor(obj)\n\u001b[1;32m    183\u001b[0m \u001b[39m# Replace the property with the accessor object. Inspired by:\u001b[39;00m\n\u001b[1;32m    184\u001b[0m \u001b[39m# https://www.pydanny.com/cached-property.html\u001b[39;00m\n\u001b[1;32m    185\u001b[0m \u001b[39m# We need to use object.__setattr__ because we overwrite __setattr__ on\u001b[39;00m\n\u001b[1;32m    186\u001b[0m \u001b[39m# NDFrame\u001b[39;00m\n\u001b[1;32m    187\u001b[0m \u001b[39mobject\u001b[39m\u001b[39m.\u001b[39m\u001b[39m__setattr__\u001b[39m(obj, \u001b[39mself\u001b[39m\u001b[39m.\u001b[39m_name, accessor_obj)\n",
      "File \u001b[0;32m/Library/Frameworks/Python.framework/Versions/3.10/lib/python3.10/site-packages/pandas/core/indexes/accessors.py:512\u001b[0m, in \u001b[0;36mCombinedDatetimelikeProperties.__new__\u001b[0;34m(cls, data)\u001b[0m\n\u001b[1;32m    509\u001b[0m \u001b[39melif\u001b[39;00m is_period_dtype(data\u001b[39m.\u001b[39mdtype):\n\u001b[1;32m    510\u001b[0m     \u001b[39mreturn\u001b[39;00m PeriodProperties(data, orig)\n\u001b[0;32m--> 512\u001b[0m \u001b[39mraise\u001b[39;00m \u001b[39mAttributeError\u001b[39;00m(\u001b[39m\"\u001b[39m\u001b[39mCan only use .dt accessor with datetimelike values\u001b[39m\u001b[39m\"\u001b[39m)\n",
      "\u001b[0;31mAttributeError\u001b[0m: Can only use .dt accessor with datetimelike values"
     ]
    }
   ],
   "source": [
    "# essayer d'obtenir le jour du mois à partir de la colonne date\n",
    "day_of_month_landslides = landslides['date'].dt.day"
   ]
  },
  {
   "attachments": {},
   "cell_type": "markdown",
   "metadata": {},
   "source": [
    "Nous avons obtenu une erreur ! La partie importante à regarder ici est la partie à la toute fin qui dit AttributeError : Can only use .dt accessor with datetimelike values. Nous obtenons cette erreur parce que la fonction dt.day() ne sait pas comment traiter une colonne de type \"object\". Même si notre dataframe contient des dates, nous ne pouvons pas interagir avec elles de manière utile car elles n'ont pas été analysées.\n",
    "\n",
    "Heureusement, nous avons une colonne que nous avons analysée plus tôt et qui nous permet d'obtenir le jour du mois sans problème :"
   ]
  },
  {
   "cell_type": "code",
   "execution_count": 21,
   "metadata": {},
   "outputs": [],
   "source": [
    "# obtient le jour du mois à partir de la colonne date_parsée\n",
    "day_of_month_landslides = landslides['date_parsed'].dt.day"
   ]
  },
  {
   "cell_type": "code",
   "execution_count": null,
   "metadata": {},
   "outputs": [],
   "source": []
  },
  {
   "attachments": {},
   "cell_type": "markdown",
   "metadata": {},
   "source": [
    "# Tracer le jour du mois pour vérifier l'analyse de la date"
   ]
  },
  {
   "attachments": {},
   "cell_type": "markdown",
   "metadata": {},
   "source": [
    "L'un des plus grands dangers de l'analyse des dates est de mélanger les mois et les jours. La fonction to_datetime() contient des messages d'erreur très utiles, mais il n'est pas inutile de vérifier que les jours du mois que nous avons extraits ont un sens.\n",
    "\n",
    "Pour ce faire, traçons un histogramme des jours du mois. Nous nous attendons à ce que les valeurs soient comprises entre 1 et 31 et, puisqu'il n'y a aucune raison de supposer que les glissements de terrain sont plus fréquents certains jours du mois que d'autres, à ce que la distribution soit relativement homogène. (Avec un creux sur 31 car tous les mois n'ont pas 31 jours.) Voyons si c'est le cas :"
   ]
  },
  {
   "cell_type": "code",
   "execution_count": 23,
   "metadata": {},
   "outputs": [
    {
     "name": "stderr",
     "output_type": "stream",
     "text": [
      "/var/folders/r5/sycktgpj0ln8vbwphhbh5mb00000gn/T/ipykernel_33772/2271159869.py:5: UserWarning: \n",
      "\n",
      "`distplot` is a deprecated function and will be removed in seaborn v0.14.0.\n",
      "\n",
      "Please adapt your code to use either `displot` (a figure-level function with\n",
      "similar flexibility) or `histplot` (an axes-level function for histograms).\n",
      "\n",
      "For a guide to updating your code to use the new functions, please see\n",
      "https://gist.github.com/mwaskom/de44147ed2974457ad6372750bbe5751\n",
      "\n",
      "  sns.distplot(day_of_month_landslides, kde=False, bins=31);\n"
     ]
    },
    {
     "data": {
      "image/png": "[encoded data removed]",
      "text/plain": [
       "<Figure size 640x480 with 1 Axes>"
      ]
     },
     "metadata": {},
     "output_type": "display_data"
    }
   ],
   "source": [
    "# supprimer les na\n",
    "day_of_month_landslides = day_of_month_landslides.dropna()\n",
    "\n",
    "# tracer le jour du mois\n",
    "sns.distplot(day_of_month_landslides, kde=False, bins=31);"
   ]
  },
  {
   "attachments": {},
   "cell_type": "markdown",
   "metadata": {},
   "source": [
    "Oui, il semble que nous ayons correctement analysé nos dates et ce graphique me semble logique"
   ]
  },
  {
   "cell_type": "code",
   "execution_count": null,
   "metadata": {},
   "outputs": [],
   "source": []
  }
 ],
 "metadata": {
  "kernelspec": {
   "display_name": "base",
   "language": "python",
   "name": "python3"
  },
  "language_info": {
   "codemirror_mode": {
    "name": "ipython",
    "version": 3
   },
   "file_extension": ".py",
   "mimetype": "text/x-python",
   "name": "python",
   "nbconvert_exporter": "python",
   "pygments_lexer": "ipython3",
   "version": "3.10.2"
  },
  "orig_nbformat": 4
 },
 "nbformat": 4,
 "nbformat_minor": 2
}
